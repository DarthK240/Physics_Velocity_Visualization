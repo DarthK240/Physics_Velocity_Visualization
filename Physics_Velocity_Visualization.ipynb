{
 "cells": [
  {
   "cell_type": "code",
   "execution_count": null,
   "id": "73247506-351d-440c-80b0-f6b8c69b7041",
   "metadata": {
    "tags": []
   },
   "outputs": [],
   "source": [
    "from vpython import *\n",
    "from visual import *\n",
    "# CONSTANTS\n",
    "# none in this program\n",
    "\n",
    "# OBJECTS AND INITIAL CONDITIONS\n",
    "a = box(pos=vec(3,3,-1), color=color.green, opacity = 0.4)\n",
    "b = sphere(pos=vec(-4,-2,2), color=color.yellow, radius=0.3, make_trail = True)\n",
    "c = sphere(pos=vec(-7,5,3), color=color.cyan, radius=0.3, make_trail = True)\n",
    "d = sphere(pos=vec(2,-9,-7), color=color.white, radius=0.3, make_trail = True)\n",
    "e = sphere(pos=vec(5,5,6), color=color.orange, radius=0.3, make_trail = True)\n",
    "\n",
    "f = sphere(pos=vec(0, 4, 0), color=color.magenta, radius=0.3, make_trail = True)\n",
    "bouncing_plane = box(pos=vec(0, 0 ,0), color=color.green, height=0.4, width =3, length=7)\n",
    "\n",
    "f.velocity = vector(0, 5, 0)\n",
    "dt = 0.01\n",
    "\n",
    "def meet(box, sphere):\n",
    "  gen_v = 0.2 * hat(box.pos - sphere.pos)\n",
    "  print(gen_v)\n",
    "  while mag(box.pos - sphere.pos) > 0.1:\n",
    "    rate(100)\n",
    "    sphere.pos = sphere.pos + gen_v\n",
    "\n",
    "meet(a, b)\n",
    "meet(a, c)\n",
    "meet(a, d)\n",
    "meet(a, e)\n",
    "\n",
    "while True:\n",
    "    rate (40)\n",
    "    f.pos = f.pos + f.velocity*dt\n",
    "    if f.pos.y < f.radius:\n",
    "        f.velocity.y = abs(f.velocity.y)\n",
    "    else:\n",
    "        f.velocity.y = f.velocity.y - 9.8*dt \n",
    "        #^^ 9.8 refers to gravitational force, for a little bit more realism!\n",
    "\n",
    "\n",
    "print('Finished.' )"
   ]
  },
  {
   "cell_type": "code",
   "execution_count": null,
   "id": "5826cf86-1598-48a1-9abd-be34f7bef415",
   "metadata": {},
   "outputs": [],
   "source": []
  }
 ],
 "metadata": {
  "kernelspec": {
   "display_name": "Python 3 (ipykernel)",
   "language": "python",
   "name": "python3"
  },
  "language_info": {
   "codemirror_mode": {
    "name": "ipython",
    "version": 3
   },
   "file_extension": ".py",
   "mimetype": "text/x-python",
   "name": "python",
   "nbconvert_exporter": "python",
   "pygments_lexer": "ipython3",
   "version": "3.11.0"
  }
 },
 "nbformat": 4,
 "nbformat_minor": 5
}
